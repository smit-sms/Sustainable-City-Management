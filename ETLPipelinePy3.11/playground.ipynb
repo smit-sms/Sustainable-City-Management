{
 "cells": [
  {
   "cell_type": "markdown",
   "metadata": {},
   "source": [
    "# Playground"
   ]
  },
  {
   "cell_type": "markdown",
   "metadata": {},
   "source": [
    "A safe space for experimentation."
   ]
  },
  {
   "cell_type": "code",
   "execution_count": 4,
   "metadata": {},
   "outputs": [],
   "source": [
    "import requests\n",
    "from etl_task import ETLTask\n",
    "from utility import base64encode_obj"
   ]
  },
  {
   "cell_type": "code",
   "execution_count": 6,
   "metadata": {},
   "outputs": [],
   "source": [
    "def load_data_bikes():\n",
    "    \"\"\" Loads last 30 min snapshot of dublin bike stands. \"\"\"\n",
    "    import requests\n",
    "    data = []\n",
    "    try:\n",
    "        res = requests.get(f\"https://data.smartdublin.ie/dublinbikes-api/last_snapshot\")  \n",
    "        data = res.json()\n",
    "    except Exception as e:\n",
    "          data = []\n",
    "          print(f'Failed to fetch dublin bikes data from source: {e}')\n",
    "          raise Exception(f'Failed to fetch dublin bikes data from source: {e}')\n",
    "    return data\n",
    "\n",
    "def transform_data_bikes(data):\n",
    "    \"\"\"\n",
    "    Transforms bikes data to be in a desireable format for saving.\n",
    "    @param data: Data to be transformed.\n",
    "    \"\"\"\n",
    "    import pandas as pd\n",
    "\n",
    "    df = pd.DataFrame(data)\n",
    "    df['usage_percent'] = df['available_bikes']/df['bike_stands']\n",
    "    df['usage_percent'] = df['usage_percent'].round(2)\n",
    "    df['status'] = df['status'].str.lower()\n",
    "    df = df[[\n",
    "        'station_id', 'bike_stands', \n",
    "        'available_bikes', 'usage_percent', \n",
    "        'last_update', 'status'\n",
    "    ]]\n",
    "    print(\"Bike data transformed. Usage % computed and last update made lowercase.\")\n",
    "\n",
    "    return df.to_dict(orient='records')\n",
    "\n",
    "def save_data_bikes(data):\n",
    "    \"\"\" \n",
    "    Saves given data to csv file. \n",
    "    @param data: Data to be saved.\n",
    "    \"\"\"\n",
    "    import requests\n",
    "    try:\n",
    "        res = requests.post(\n",
    "            url=\"http://localhost:8000/bikes/snapshot/\", \n",
    "            json={'snapshot':data}\n",
    "        )\n",
    "        print(res.json()['message'])\n",
    "    except Exception as e:\n",
    "        print(f'Failed to save bikes data. {e}')\n",
    "        raise Exception(f'Failed to save bikes data. {e}')\n",
    "    \n",
    "# data = load_data_bikes()\n",
    "# data = transform_data_bikes(data)\n",
    "# save_data_bikes(data)"
   ]
  },
  {
   "cell_type": "code",
   "execution_count": 7,
   "metadata": {},
   "outputs": [],
   "source": [
    "# Toy data load and save functions.\n",
    "def load_toy_data(): \n",
    "    \"\"\" A toy placeholder load data function. \"\"\"\n",
    "    print(f'Loaded data.')\n",
    "    return 1\n",
    "\n",
    "def transform_toy_data(data):\n",
    "    \"\"\" A toy placeholder transform data function. \"\"\"\n",
    "    data_transformed = data * 10 # Deliberate error to showcase logging.\n",
    "    print(f'Transformed data {data} into {data_transformed}.')\n",
    "    return data_transformed\n",
    "\n",
    "def save_toy_data(data): \n",
    "    \"\"\" A toy placeholder save data function. \"\"\"\n",
    "    import os\n",
    "    import csv\n",
    "    from datetime import datetime\n",
    "    csv_file = './data.csv'\n",
    "    file_exists = os.path.isfile(csv_file)\n",
    "    with open(csv_file, mode='a', newline='') as file:\n",
    "        writer = csv.writer(file)\n",
    "        if not file_exists:\n",
    "            writer.writerow(['timestamp', 'description'])\n",
    "        writer.writerows([[str(datetime.now()), \"toy data\"]])\n",
    "    print(f'Saved data {data}.')"
   ]
  },
  {
   "cell_type": "code",
   "execution_count": 8,
   "metadata": {},
   "outputs": [],
   "source": [
    "def make_post_request(url, data={}):\n",
    "    \"\"\"\n",
    "    Makes a post request.\n",
    "    @param url: URL to post to.\n",
    "    @data: Request body data.\n",
    "    @return: Response.\n",
    "    \"\"\"\n",
    "    response = requests.post(url, params=data)\n",
    "    return {'status': response.status_code, 'message': response.json()['message']}\n",
    "\n",
    "def make_get_request(url, data={}):\n",
    "    \"\"\"\n",
    "    Makes a post request.\n",
    "    @param url: URL to post to.\n",
    "    @data: Request body data.\n",
    "    @return: Response.\n",
    "    \"\"\"\n",
    "    response = requests.get(url, params=data)\n",
    "    return {'status': response.status_code, 'message': response.text}\n",
    "\n",
    "def make_delete_request(url, data={}):\n",
    "    \"\"\"\n",
    "    Makes a delete request.\n",
    "    @param url: URL to post to.\n",
    "    @data: Request body data.\n",
    "    @return: Response.\n",
    "    \"\"\"\n",
    "    response = requests.delete(url, params=data)\n",
    "    return {'status': response.status_code, 'message': response.json()['message']}\n",
    "\n",
    "def make_put_request(url, task_name, new_values):\n",
    "    \"\"\"\n",
    "    Makes a put request.\n",
    "    @param url: URL to post to.\n",
    "    @data: Request body data.\n",
    "    @return: Response.\n",
    "    \"\"\"\n",
    "    response = requests.put(\n",
    "        url=url, \n",
    "        params={\"task_name\": task_name}, \n",
    "        json=new_values\n",
    "    )\n",
    "    return {'status': response.status_code, 'message': response.json()}"
   ]
  },
  {
   "cell_type": "code",
   "execution_count": 23,
   "metadata": {},
   "outputs": [],
   "source": [
    "# Create a new task.\n",
    "task = ETLTask(\n",
    "    name=\"task1\",\n",
    "    fun_data_load=load_toy_data,\n",
    "    fun_data_transform=transform_toy_data,\n",
    "    fun_data_save=save_toy_data,\n",
    "    repeat_time_unit='seconds',\n",
    "    repeat_interval=5\n",
    ")\n",
    "task_str = base64encode_obj(task)\n",
    "response = requests.post(\"http://127.0.0.1:8003/task\", params={\"task_str\": task_str})"
   ]
  },
  {
   "cell_type": "code",
   "execution_count": 22,
   "metadata": {},
   "outputs": [],
   "source": [
    "# # Shutdown the server.\n",
    "# try:\n",
    "#     requests.get(\"http://127.0.0.1:8003/end\")\n",
    "# except ConnectionResetError:\n",
    "#     print(\"Server has been shut down.\")"
   ]
  },
  {
   "cell_type": "code",
   "execution_count": 13,
   "metadata": {},
   "outputs": [
    {
     "data": {
      "text/plain": [
       "{'status': 200,\n",
       " 'message': 'Success. If the task \"task1\" existed, it has been deleted.'}"
      ]
     },
     "execution_count": 13,
     "metadata": {},
     "output_type": "execute_result"
    }
   ],
   "source": [
    "# Delete a task.\n",
    "make_delete_request(url=\"http://127.0.0.1:8003/task\", data={'task_name': 'task1'})"
   ]
  },
  {
   "cell_type": "code",
   "execution_count": 10,
   "metadata": {},
   "outputs": [],
   "source": [
    "# # Start scheduler.\n",
    "# make_get_request(url=\"http://127.0.0.1:8003/start_scheduler\")"
   ]
  },
  {
   "cell_type": "code",
   "execution_count": 11,
   "metadata": {},
   "outputs": [],
   "source": [
    "# # Stop scheduler.\n",
    "# make_get_request(url=\"http://127.0.0.1:8003/stop_scheduler\")"
   ]
  },
  {
   "cell_type": "code",
   "execution_count": 12,
   "metadata": {},
   "outputs": [],
   "source": [
    "# # Stop task\n",
    "# make_put_request(\n",
    "#     url=\"http://127.0.0.1:8003/task/stop\", \n",
    "#     task_name=\"task1\",\n",
    "#     new_values={}\n",
    "# )"
   ]
  },
  {
   "cell_type": "code",
   "execution_count": 13,
   "metadata": {},
   "outputs": [],
   "source": [
    "# # Start task\n",
    "# make_put_request(\n",
    "#     url=\"http://127.0.0.1:8003/task/start\", \n",
    "#     task_name=\"bikes\",\n",
    "#     new_values={}\n",
    "# )"
   ]
  }
 ],
 "metadata": {
  "kernelspec": {
   "display_name": "django-postgresql",
   "language": "python",
   "name": "python3"
  },
  "language_info": {
   "codemirror_mode": {
    "name": "ipython",
    "version": 3
   },
   "file_extension": ".py",
   "mimetype": "text/x-python",
   "name": "python",
   "nbconvert_exporter": "python",
   "pygments_lexer": "ipython3",
   "version": "3.11.5"
  }
 },
 "nbformat": 4,
 "nbformat_minor": 2
}
